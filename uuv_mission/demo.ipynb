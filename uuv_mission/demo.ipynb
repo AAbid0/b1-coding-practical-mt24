{
 "cells": [
  {
   "cell_type": "code",
   "execution_count": 1,
   "metadata": {},
   "outputs": [],
   "source": [
    "# Add relevant Jupyter notebook extensions "
   ]
  },
  {
   "cell_type": "code",
   "execution_count": 1,
   "metadata": {},
   "outputs": [
    {
     "name": "stdout",
     "output_type": "stream",
     "text": [
      "['C:\\\\Program Files\\\\WindowsApps\\\\PythonSoftwareFoundation.Python.3.12_3.12.2032.0_x64__qbz5n2kfra8p0\\\\python312.zip', 'C:\\\\Program Files\\\\WindowsApps\\\\PythonSoftwareFoundation.Python.3.12_3.12.2032.0_x64__qbz5n2kfra8p0\\\\DLLs', 'C:\\\\Program Files\\\\WindowsApps\\\\PythonSoftwareFoundation.Python.3.12_3.12.2032.0_x64__qbz5n2kfra8p0\\\\Lib', 'C:\\\\Program Files\\\\WindowsApps\\\\PythonSoftwareFoundation.Python.3.12_3.12.2032.0_x64__qbz5n2kfra8p0', 'c:\\\\Users\\\\abdul\\\\Desktop\\\\B1\\\\Scientific Coding\\\\b1-coding-practical-mt24\\\\.venv', '', 'c:\\\\Users\\\\abdul\\\\Desktop\\\\B1\\\\Scientific Coding\\\\b1-coding-practical-mt24\\\\.venv\\\\Lib\\\\site-packages', 'c:\\\\Users\\\\abdul\\\\Desktop\\\\B1\\\\Scientific Coding\\\\b1-coding-practical-mt24\\\\.venv\\\\Lib\\\\site-packages\\\\win32', 'c:\\\\Users\\\\abdul\\\\Desktop\\\\B1\\\\Scientific Coding\\\\b1-coding-practical-mt24\\\\.venv\\\\Lib\\\\site-packages\\\\win32\\\\lib', 'c:\\\\Users\\\\abdul\\\\Desktop\\\\B1\\\\Scientific Coding\\\\b1-coding-practical-mt24\\\\.venv\\\\Lib\\\\site-packages\\\\Pythonwin']\n"
     ]
    }
   ],
   "source": [
    "# You can double-check your Python path like this...\n",
    "import sys  \n",
    "print(sys.path)"
   ]
  },
  {
   "cell_type": "markdown",
   "metadata": {},
   "source": [
    "# Simulate closed-loop\n",
    "After implementing your control functionality, you can simulate the closed-loop with code that looks something like this..."
   ]
  },
  {
   "cell_type": "code",
   "execution_count": 31,
   "metadata": {},
   "outputs": [
    {
     "ename": "AttributeError",
     "evalue": "'PDController' object has no attribute 'compute_action'",
     "output_type": "error",
     "traceback": [
      "\u001b[1;31m---------------------------------------------------------------------------\u001b[0m",
      "\u001b[1;31mAttributeError\u001b[0m                            Traceback (most recent call last)",
      "Cell \u001b[1;32mIn[31], line 14\u001b[0m\n\u001b[0;32m     11\u001b[0m closed_loop \u001b[38;5;241m=\u001b[39m ClosedLoop(sub, controller)\n\u001b[0;32m     12\u001b[0m mission \u001b[38;5;241m=\u001b[39m Mission\u001b[38;5;241m.\u001b[39mfrom_csv(\u001b[38;5;124mr\u001b[39m\u001b[38;5;124m\"\u001b[39m\u001b[38;5;124mC:\u001b[39m\u001b[38;5;124m\\\u001b[39m\u001b[38;5;124mUsers\u001b[39m\u001b[38;5;124m\\\u001b[39m\u001b[38;5;124mabdul\u001b[39m\u001b[38;5;124m\\\u001b[39m\u001b[38;5;124mDesktop\u001b[39m\u001b[38;5;124m\\\u001b[39m\u001b[38;5;124mB1\u001b[39m\u001b[38;5;124m\\\u001b[39m\u001b[38;5;124mScientific Coding\u001b[39m\u001b[38;5;124m\\\u001b[39m\u001b[38;5;124mb1-coding-practical-mt24\u001b[39m\u001b[38;5;124m\\\u001b[39m\u001b[38;5;124mdata\u001b[39m\u001b[38;5;124m\\\u001b[39m\u001b[38;5;124mmission.csv\u001b[39m\u001b[38;5;124m\"\u001b[39m) \u001b[38;5;66;03m# You must implement this method in the Mission class\u001b[39;00m\n\u001b[1;32m---> 14\u001b[0m trajectory \u001b[38;5;241m=\u001b[39m \u001b[43mclosed_loop\u001b[49m\u001b[38;5;241;43m.\u001b[39;49m\u001b[43msimulate_with_random_disturbances\u001b[49m\u001b[43m(\u001b[49m\u001b[43mmission\u001b[49m\u001b[43m)\u001b[49m\n\u001b[0;32m     15\u001b[0m trajectory\u001b[38;5;241m.\u001b[39mplot_completed_mission(mission)\n",
      "File \u001b[1;32mc:\\Users\\abdul\\Desktop\\B1\\Scientific Coding\\b1-coding-practical-mt24\\uuv_mission\\dynamic.py:118\u001b[0m, in \u001b[0;36msimulate_with_random_disturbances\u001b[1;34m(self, mission, variance)\u001b[0m\n\u001b[0;32m    116\u001b[0m \u001b[38;5;28;01mdef\u001b[39;00m \u001b[38;5;21msimulate\u001b[39m(\u001b[38;5;28mself\u001b[39m, mission: Mission, disturbances: np\u001b[38;5;241m.\u001b[39mndarray) \u001b[38;5;241m-\u001b[39m\u001b[38;5;241m>\u001b[39m Trajectory:\n\u001b[0;32m    117\u001b[0m     T \u001b[38;5;241m=\u001b[39m \u001b[38;5;28mlen\u001b[39m(mission\u001b[38;5;241m.\u001b[39mreference)\n\u001b[1;32m--> 118\u001b[0m     \u001b[38;5;28;01mif\u001b[39;00m \u001b[38;5;28mlen\u001b[39m(disturbances) \u001b[38;5;241m<\u001b[39m T:\n\u001b[0;32m    119\u001b[0m         \u001b[38;5;28;01mraise\u001b[39;00m \u001b[38;5;167;01mValueError\u001b[39;00m(\u001b[38;5;124m\"\u001b[39m\u001b[38;5;124mDisturbances must be at least as long as mission duration\u001b[39m\u001b[38;5;124m\"\u001b[39m)\n\u001b[0;32m    121\u001b[0m     positions \u001b[38;5;241m=\u001b[39m np\u001b[38;5;241m.\u001b[39mzeros((T, \u001b[38;5;241m2\u001b[39m))\n",
      "File \u001b[1;32mc:\\Users\\abdul\\Desktop\\B1\\Scientific Coding\\b1-coding-practical-mt24\\uuv_mission\\dynamic.py:110\u001b[0m, in \u001b[0;36msimulate\u001b[1;34m(self, mission, disturbances)\u001b[0m\n\u001b[0;32m    106\u001b[0m         cave_depth = data[:, 2]  # Third column is the cave depth\n\u001b[0;32m    108\u001b[0m         return cls(reference, cave_height, cave_depth)\n\u001b[1;32m--> 110\u001b[0m # ClosedLoop class definition\n\u001b[0;32m    111\u001b[0m class ClosedLoop:\n\u001b[0;32m    112\u001b[0m     def __init__(self, plant: Submarine, controller: PDController):\n",
      "\u001b[1;31mAttributeError\u001b[0m: 'PDController' object has no attribute 'compute_action'"
     ]
    }
   ],
   "source": [
    "# Import relevant modules\n",
    "from dynamic import Submarine, ClosedLoop, Mission\n",
    "from control import PDController\n",
    "\n",
    "# Instantiate the submarine\n",
    "sub = Submarine()\n",
    "\n",
    "# Instantiate the PD Controller with given gains\n",
    "controller = PDController(kp=0.15, kd=0.6)\n",
    "# Instantiate your controller (depending on your implementation)\n",
    "closed_loop = ClosedLoop(sub, controller)\n",
    "mission = Mission.from_csv(r\"C:\\Users\\abdul\\Desktop\\B1\\Scientific Coding\\b1-coding-practical-mt24\\data\\mission.csv\") # You must implement this method in the Mission class\n",
    "\n",
    "trajectory = closed_loop.simulate_with_random_disturbances(mission)\n",
    "trajectory.plot_completed_mission(mission)"
   ]
  }
 ],
 "metadata": {
  "kernelspec": {
   "display_name": ".venv",
   "language": "python",
   "name": "python3"
  },
  "language_info": {
   "codemirror_mode": {
    "name": "ipython",
    "version": 3
   },
   "file_extension": ".py",
   "mimetype": "text/x-python",
   "name": "python",
   "nbconvert_exporter": "python",
   "pygments_lexer": "ipython3",
   "version": "3.12.7"
  }
 },
 "nbformat": 4,
 "nbformat_minor": 2
}
