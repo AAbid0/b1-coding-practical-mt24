{
 "cells": [
  {
   "cell_type": "code",
   "execution_count": 1,
   "metadata": {},
   "outputs": [],
   "source": [
    "# Add relevant Jupyter notebook extensions "
   ]
  },
  {
   "cell_type": "code",
   "execution_count": 1,
   "metadata": {},
   "outputs": [
    {
     "name": "stdout",
     "output_type": "stream",
     "text": [
      "['C:\\\\Program Files\\\\WindowsApps\\\\PythonSoftwareFoundation.Python.3.12_3.12.2032.0_x64__qbz5n2kfra8p0\\\\python312.zip', 'C:\\\\Program Files\\\\WindowsApps\\\\PythonSoftwareFoundation.Python.3.12_3.12.2032.0_x64__qbz5n2kfra8p0\\\\DLLs', 'C:\\\\Program Files\\\\WindowsApps\\\\PythonSoftwareFoundation.Python.3.12_3.12.2032.0_x64__qbz5n2kfra8p0\\\\Lib', 'C:\\\\Program Files\\\\WindowsApps\\\\PythonSoftwareFoundation.Python.3.12_3.12.2032.0_x64__qbz5n2kfra8p0', 'c:\\\\Users\\\\abdul\\\\Desktop\\\\B1\\\\Scientific Coding\\\\b1-coding-practical-mt24\\\\.venv', '', 'c:\\\\Users\\\\abdul\\\\Desktop\\\\B1\\\\Scientific Coding\\\\b1-coding-practical-mt24\\\\.venv\\\\Lib\\\\site-packages', 'c:\\\\Users\\\\abdul\\\\Desktop\\\\B1\\\\Scientific Coding\\\\b1-coding-practical-mt24\\\\.venv\\\\Lib\\\\site-packages\\\\win32', 'c:\\\\Users\\\\abdul\\\\Desktop\\\\B1\\\\Scientific Coding\\\\b1-coding-practical-mt24\\\\.venv\\\\Lib\\\\site-packages\\\\win32\\\\lib', 'c:\\\\Users\\\\abdul\\\\Desktop\\\\B1\\\\Scientific Coding\\\\b1-coding-practical-mt24\\\\.venv\\\\Lib\\\\site-packages\\\\Pythonwin']\n"
     ]
    }
   ],
   "source": [
    "# You can double-check your Python path like this...\n",
    "import sys  \n",
    "print(sys.path)"
   ]
  },
  {
   "cell_type": "markdown",
   "metadata": {},
   "source": [
    "# Simulate closed-loop\n",
    "After implementing your control functionality, you can simulate the closed-loop with code that looks something like this..."
   ]
  },
  {
   "cell_type": "code",
   "execution_count": 11,
   "metadata": {},
   "outputs": [
    {
     "ename": "ImportError",
     "evalue": "cannot import name 'PDController' from 'dynamic' (c:\\Users\\abdul\\Desktop\\B1\\Scientific Coding\\b1-coding-practical-mt24\\uuv_mission\\dynamic.py)",
     "output_type": "error",
     "traceback": [
      "\u001b[1;31m---------------------------------------------------------------------------\u001b[0m",
      "\u001b[1;31mImportError\u001b[0m                               Traceback (most recent call last)",
      "Cell \u001b[1;32mIn[11], line 2\u001b[0m\n\u001b[0;32m      1\u001b[0m \u001b[38;5;66;03m# Import relevant modules\u001b[39;00m\n\u001b[1;32m----> 2\u001b[0m \u001b[38;5;28;01mfrom\u001b[39;00m \u001b[38;5;21;01mdynamic\u001b[39;00m \u001b[38;5;28;01mimport\u001b[39;00m Submarine, ClosedLoop, Mission, PDController\n\u001b[0;32m      4\u001b[0m sub \u001b[38;5;241m=\u001b[39m Submarine()\n\u001b[0;32m      5\u001b[0m controller \u001b[38;5;241m=\u001b[39m PDController(kp\u001b[38;5;241m=\u001b[39m\u001b[38;5;241m0.15\u001b[39m, kd\u001b[38;5;241m=\u001b[39m\u001b[38;5;241m0.6\u001b[39m)\n",
      "\u001b[1;31mImportError\u001b[0m: cannot import name 'PDController' from 'dynamic' (c:\\Users\\abdul\\Desktop\\B1\\Scientific Coding\\b1-coding-practical-mt24\\uuv_mission\\dynamic.py)"
     ]
    }
   ],
   "source": [
    "# Import relevant modules\n",
    "\n",
    "sub = Submarine()\n",
    "# Instantiate your controller (depending on your implementation)\n",
    "closed_loop = ClosedLoop(sub, controller)\n",
    "mission = Mission.from_csv(\"path/to/file\") # You must implement this method in the Mission class\n",
    "\n",
    "trajectory = closed_loop.simulate_with_random_disturbances(mission)\n",
    "trajectory.plot_completed_mission(mission)"
   ]
  }
 ],
 "metadata": {
  "kernelspec": {
   "display_name": ".venv",
   "language": "python",
   "name": "python3"
  },
  "language_info": {
   "codemirror_mode": {
    "name": "ipython",
    "version": 3
   },
   "file_extension": ".py",
   "mimetype": "text/x-python",
   "name": "python",
   "nbconvert_exporter": "python",
   "pygments_lexer": "ipython3",
   "version": "3.12.7"
  }
 },
 "nbformat": 4,
 "nbformat_minor": 2
}
